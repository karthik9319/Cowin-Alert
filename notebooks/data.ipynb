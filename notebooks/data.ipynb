{
 "metadata": {
  "language_info": {
   "codemirror_mode": {
    "name": "ipython",
    "version": 3
   },
   "file_extension": ".py",
   "mimetype": "text/x-python",
   "name": "python",
   "nbconvert_exporter": "python",
   "pygments_lexer": "ipython3",
   "version": "3.8.8"
  },
  "orig_nbformat": 2,
  "kernelspec": {
   "name": "python388jvsc74a57bd0d9cdf73c7b123388954cdb0d73bbcefa11b8b58acf57d6397afd25ecc6e3042a",
   "display_name": "Python 3.8.8 64-bit ('base': conda)"
  }
 },
 "nbformat": 4,
 "nbformat_minor": 2,
 "cells": [
  {
   "cell_type": "code",
   "execution_count": 2,
   "metadata": {},
   "outputs": [],
   "source": [
    "import os\n",
    "import pandas as pd"
   ]
  },
  {
   "cell_type": "code",
   "execution_count": 3,
   "metadata": {},
   "outputs": [
    {
     "output_type": "execute_result",
     "data": {
      "text/plain": [
       "             Circle Name     Region Name       Division Name  \\\n",
       "0  Andhra Pradesh Circle  Kurnool Region  Anantapur Division   \n",
       "1  Andhra Pradesh Circle  Kurnool Region  Anantapur Division   \n",
       "2  Andhra Pradesh Circle  Kurnool Region  Anantapur Division   \n",
       "3  Andhra Pradesh Circle  Kurnool Region  Anantapur Division   \n",
       "4  Andhra Pradesh Circle  Kurnool Region  Anantapur Division   \n",
       "\n",
       "           Office Name  Pincode OfficeType  Delivery    District  \\\n",
       "0  A Narayanapuram B.O   515004         BO  Delivery  ANANTHAPUR   \n",
       "1          Akuledu B.O   515731         BO  Delivery  ANANTHAPUR   \n",
       "2          Alamuru B.O   515002         BO  Delivery  ANANTHAPUR   \n",
       "3        Allapuram B.O   515766         BO  Delivery  ANANTHAPUR   \n",
       "4            Aluru B.O   515415         BO  Delivery  ANANTHAPUR   \n",
       "\n",
       "        StateName  \n",
       "0  Andhra Pradesh  \n",
       "1  Andhra Pradesh  \n",
       "2  Andhra Pradesh  \n",
       "3  Andhra Pradesh  \n",
       "4  Andhra Pradesh  "
      ],
      "text/html": "<div>\n<style scoped>\n    .dataframe tbody tr th:only-of-type {\n        vertical-align: middle;\n    }\n\n    .dataframe tbody tr th {\n        vertical-align: top;\n    }\n\n    .dataframe thead th {\n        text-align: right;\n    }\n</style>\n<table border=\"1\" class=\"dataframe\">\n  <thead>\n    <tr style=\"text-align: right;\">\n      <th></th>\n      <th>Circle Name</th>\n      <th>Region Name</th>\n      <th>Division Name</th>\n      <th>Office Name</th>\n      <th>Pincode</th>\n      <th>OfficeType</th>\n      <th>Delivery</th>\n      <th>District</th>\n      <th>StateName</th>\n    </tr>\n  </thead>\n  <tbody>\n    <tr>\n      <th>0</th>\n      <td>Andhra Pradesh Circle</td>\n      <td>Kurnool Region</td>\n      <td>Anantapur Division</td>\n      <td>A Narayanapuram B.O</td>\n      <td>515004</td>\n      <td>BO</td>\n      <td>Delivery</td>\n      <td>ANANTHAPUR</td>\n      <td>Andhra Pradesh</td>\n    </tr>\n    <tr>\n      <th>1</th>\n      <td>Andhra Pradesh Circle</td>\n      <td>Kurnool Region</td>\n      <td>Anantapur Division</td>\n      <td>Akuledu B.O</td>\n      <td>515731</td>\n      <td>BO</td>\n      <td>Delivery</td>\n      <td>ANANTHAPUR</td>\n      <td>Andhra Pradesh</td>\n    </tr>\n    <tr>\n      <th>2</th>\n      <td>Andhra Pradesh Circle</td>\n      <td>Kurnool Region</td>\n      <td>Anantapur Division</td>\n      <td>Alamuru B.O</td>\n      <td>515002</td>\n      <td>BO</td>\n      <td>Delivery</td>\n      <td>ANANTHAPUR</td>\n      <td>Andhra Pradesh</td>\n    </tr>\n    <tr>\n      <th>3</th>\n      <td>Andhra Pradesh Circle</td>\n      <td>Kurnool Region</td>\n      <td>Anantapur Division</td>\n      <td>Allapuram B.O</td>\n      <td>515766</td>\n      <td>BO</td>\n      <td>Delivery</td>\n      <td>ANANTHAPUR</td>\n      <td>Andhra Pradesh</td>\n    </tr>\n    <tr>\n      <th>4</th>\n      <td>Andhra Pradesh Circle</td>\n      <td>Kurnool Region</td>\n      <td>Anantapur Division</td>\n      <td>Aluru B.O</td>\n      <td>515415</td>\n      <td>BO</td>\n      <td>Delivery</td>\n      <td>ANANTHAPUR</td>\n      <td>Andhra Pradesh</td>\n    </tr>\n  </tbody>\n</table>\n</div>"
     },
     "metadata": {},
     "execution_count": 3
    }
   ],
   "source": [
    "os.chdir(\"..\")\n",
    "file_path = os.path.join(os.getcwd(), \"data/Pincode_30052019.csv\")\n",
    "df = pd.read_csv(file_path)\n",
    "df.head()"
   ]
  },
  {
   "cell_type": "code",
   "execution_count": 5,
   "metadata": {},
   "outputs": [
    {
     "output_type": "execute_result",
     "data": {
      "text/plain": [
       "Circle Name          0\n",
       "Region Name      33512\n",
       "Division Name        0\n",
       "Office Name          0\n",
       "Pincode              0\n",
       "OfficeType           0\n",
       "Delivery             0\n",
       "District            74\n",
       "StateName            0\n",
       "dtype: int64"
      ]
     },
     "metadata": {},
     "execution_count": 5
    }
   ],
   "source": [
    "df.isna().sum()"
   ]
  },
  {
   "cell_type": "code",
   "execution_count": 6,
   "metadata": {},
   "outputs": [
    {
     "output_type": "execute_result",
     "data": {
      "text/plain": [
       "                Circle Name           Region Name         Division Name  \\\n",
       "8401  Andhra Pradesh Circle  Visakhapatnam Region     Kakinada Division   \n",
       "8402  Andhra Pradesh Circle  Visakhapatnam Region     Kakinada Division   \n",
       "8403  Andhra Pradesh Circle  Visakhapatnam Region     Kakinada Division   \n",
       "8404  Andhra Pradesh Circle  Visakhapatnam Region     Kakinada Division   \n",
       "8405  Andhra Pradesh Circle  Visakhapatnam Region     Kakinada Division   \n",
       "...                     ...                   ...                   ...   \n",
       "9512  Andhra Pradesh Circle  Visakhapatnam Region  Rajahmundry Division   \n",
       "9513  Andhra Pradesh Circle  Visakhapatnam Region  Rajahmundry Division   \n",
       "9514  Andhra Pradesh Circle  Visakhapatnam Region  Rajahmundry Division   \n",
       "9516  Andhra Pradesh Circle  Visakhapatnam Region  Rajahmundry Division   \n",
       "9517  Andhra Pradesh Circle  Visakhapatnam Region  Rajahmundry Division   \n",
       "\n",
       "             Office Name  Pincode OfficeType      Delivery       District  \\\n",
       "8401    A Kothapalli B.O   533408         BO      Delivery  EAST GODAVARI   \n",
       "8402    A Mallavaram B.O   533449         BO      Delivery  EAST GODAVARI   \n",
       "8403     A V Nagaram B.O   533449         BO      Delivery  EAST GODAVARI   \n",
       "8404      Addaripeta B.O   533401         BO      Delivery  EAST GODAVARI   \n",
       "8405      Addatigala S.O   533428         SO      Delivery  EAST GODAVARI   \n",
       "...                  ...      ...        ...           ...            ...   \n",
       "9512      Vullithota S.O   533101         SO  Non Delivery  EAST GODAVARI   \n",
       "9513  Weavers Colony S.O   533105         SO  Non Delivery  EAST GODAVARI   \n",
       "9514      Yandagandi B.O   533305         BO      Delivery  EAST GODAVARI   \n",
       "9516         Yeditha S.O   533234         SO      Delivery  EAST GODAVARI   \n",
       "9517      Z.Medapadu B.O   533341         BO      Delivery  EAST GODAVARI   \n",
       "\n",
       "           StateName  \n",
       "8401  Andhra Pradesh  \n",
       "8402  Andhra Pradesh  \n",
       "8403  Andhra Pradesh  \n",
       "8404  Andhra Pradesh  \n",
       "8405  Andhra Pradesh  \n",
       "...              ...  \n",
       "9512  Andhra Pradesh  \n",
       "9513  Andhra Pradesh  \n",
       "9514  Andhra Pradesh  \n",
       "9516  Andhra Pradesh  \n",
       "9517  Andhra Pradesh  \n",
       "\n",
       "[675 rows x 9 columns]"
      ],
      "text/html": "<div>\n<style scoped>\n    .dataframe tbody tr th:only-of-type {\n        vertical-align: middle;\n    }\n\n    .dataframe tbody tr th {\n        vertical-align: top;\n    }\n\n    .dataframe thead th {\n        text-align: right;\n    }\n</style>\n<table border=\"1\" class=\"dataframe\">\n  <thead>\n    <tr style=\"text-align: right;\">\n      <th></th>\n      <th>Circle Name</th>\n      <th>Region Name</th>\n      <th>Division Name</th>\n      <th>Office Name</th>\n      <th>Pincode</th>\n      <th>OfficeType</th>\n      <th>Delivery</th>\n      <th>District</th>\n      <th>StateName</th>\n    </tr>\n  </thead>\n  <tbody>\n    <tr>\n      <th>8401</th>\n      <td>Andhra Pradesh Circle</td>\n      <td>Visakhapatnam Region</td>\n      <td>Kakinada Division</td>\n      <td>A Kothapalli B.O</td>\n      <td>533408</td>\n      <td>BO</td>\n      <td>Delivery</td>\n      <td>EAST GODAVARI</td>\n      <td>Andhra Pradesh</td>\n    </tr>\n    <tr>\n      <th>8402</th>\n      <td>Andhra Pradesh Circle</td>\n      <td>Visakhapatnam Region</td>\n      <td>Kakinada Division</td>\n      <td>A Mallavaram B.O</td>\n      <td>533449</td>\n      <td>BO</td>\n      <td>Delivery</td>\n      <td>EAST GODAVARI</td>\n      <td>Andhra Pradesh</td>\n    </tr>\n    <tr>\n      <th>8403</th>\n      <td>Andhra Pradesh Circle</td>\n      <td>Visakhapatnam Region</td>\n      <td>Kakinada Division</td>\n      <td>A V Nagaram B.O</td>\n      <td>533449</td>\n      <td>BO</td>\n      <td>Delivery</td>\n      <td>EAST GODAVARI</td>\n      <td>Andhra Pradesh</td>\n    </tr>\n    <tr>\n      <th>8404</th>\n      <td>Andhra Pradesh Circle</td>\n      <td>Visakhapatnam Region</td>\n      <td>Kakinada Division</td>\n      <td>Addaripeta B.O</td>\n      <td>533401</td>\n      <td>BO</td>\n      <td>Delivery</td>\n      <td>EAST GODAVARI</td>\n      <td>Andhra Pradesh</td>\n    </tr>\n    <tr>\n      <th>8405</th>\n      <td>Andhra Pradesh Circle</td>\n      <td>Visakhapatnam Region</td>\n      <td>Kakinada Division</td>\n      <td>Addatigala S.O</td>\n      <td>533428</td>\n      <td>SO</td>\n      <td>Delivery</td>\n      <td>EAST GODAVARI</td>\n      <td>Andhra Pradesh</td>\n    </tr>\n    <tr>\n      <th>...</th>\n      <td>...</td>\n      <td>...</td>\n      <td>...</td>\n      <td>...</td>\n      <td>...</td>\n      <td>...</td>\n      <td>...</td>\n      <td>...</td>\n      <td>...</td>\n    </tr>\n    <tr>\n      <th>9512</th>\n      <td>Andhra Pradesh Circle</td>\n      <td>Visakhapatnam Region</td>\n      <td>Rajahmundry Division</td>\n      <td>Vullithota S.O</td>\n      <td>533101</td>\n      <td>SO</td>\n      <td>Non Delivery</td>\n      <td>EAST GODAVARI</td>\n      <td>Andhra Pradesh</td>\n    </tr>\n    <tr>\n      <th>9513</th>\n      <td>Andhra Pradesh Circle</td>\n      <td>Visakhapatnam Region</td>\n      <td>Rajahmundry Division</td>\n      <td>Weavers Colony S.O</td>\n      <td>533105</td>\n      <td>SO</td>\n      <td>Non Delivery</td>\n      <td>EAST GODAVARI</td>\n      <td>Andhra Pradesh</td>\n    </tr>\n    <tr>\n      <th>9514</th>\n      <td>Andhra Pradesh Circle</td>\n      <td>Visakhapatnam Region</td>\n      <td>Rajahmundry Division</td>\n      <td>Yandagandi B.O</td>\n      <td>533305</td>\n      <td>BO</td>\n      <td>Delivery</td>\n      <td>EAST GODAVARI</td>\n      <td>Andhra Pradesh</td>\n    </tr>\n    <tr>\n      <th>9516</th>\n      <td>Andhra Pradesh Circle</td>\n      <td>Visakhapatnam Region</td>\n      <td>Rajahmundry Division</td>\n      <td>Yeditha S.O</td>\n      <td>533234</td>\n      <td>SO</td>\n      <td>Delivery</td>\n      <td>EAST GODAVARI</td>\n      <td>Andhra Pradesh</td>\n    </tr>\n    <tr>\n      <th>9517</th>\n      <td>Andhra Pradesh Circle</td>\n      <td>Visakhapatnam Region</td>\n      <td>Rajahmundry Division</td>\n      <td>Z.Medapadu B.O</td>\n      <td>533341</td>\n      <td>BO</td>\n      <td>Delivery</td>\n      <td>EAST GODAVARI</td>\n      <td>Andhra Pradesh</td>\n    </tr>\n  </tbody>\n</table>\n<p>675 rows × 9 columns</p>\n</div>"
     },
     "metadata": {},
     "execution_count": 6
    }
   ],
   "source": [
    "eg_df = df[df['District'] == 'EAST GODAVARI']\n",
    "\n",
    "eg_df"
   ]
  },
  {
   "cell_type": "code",
   "execution_count": 7,
   "metadata": {},
   "outputs": [
    {
     "output_type": "execute_result",
     "data": {
      "text/plain": [
       "                Circle Name           Region Name      Division Name  \\\n",
       "8401  Andhra Pradesh Circle  Visakhapatnam Region  Kakinada Division   \n",
       "8402  Andhra Pradesh Circle  Visakhapatnam Region  Kakinada Division   \n",
       "8403  Andhra Pradesh Circle  Visakhapatnam Region  Kakinada Division   \n",
       "8404  Andhra Pradesh Circle  Visakhapatnam Region  Kakinada Division   \n",
       "8405  Andhra Pradesh Circle  Visakhapatnam Region  Kakinada Division   \n",
       "...                     ...                   ...                ...   \n",
       "8731  Andhra Pradesh Circle  Visakhapatnam Region  Kakinada Division   \n",
       "8732  Andhra Pradesh Circle  Visakhapatnam Region  Kakinada Division   \n",
       "8733  Andhra Pradesh Circle  Visakhapatnam Region  Kakinada Division   \n",
       "8734  Andhra Pradesh Circle  Visakhapatnam Region  Kakinada Division   \n",
       "8735  Andhra Pradesh Circle  Visakhapatnam Region  Kakinada Division   \n",
       "\n",
       "               Office Name  Pincode OfficeType  Delivery       District  \\\n",
       "8401      A Kothapalli B.O   533408         BO  Delivery  EAST GODAVARI   \n",
       "8402      A Mallavaram B.O   533449         BO  Delivery  EAST GODAVARI   \n",
       "8403       A V Nagaram B.O   533449         BO  Delivery  EAST GODAVARI   \n",
       "8404        Addaripeta B.O   533401         BO  Delivery  EAST GODAVARI   \n",
       "8405        Addatigala S.O   533428         SO  Delivery  EAST GODAVARI   \n",
       "...                    ...      ...        ...       ...            ...   \n",
       "8731        Yendapalli B.O   533447         BO  Delivery  EAST GODAVARI   \n",
       "8732  Yerramreddypalem B.O   533428         BO  Delivery  EAST GODAVARI   \n",
       "8733        Yerravaram B.O   533435         BO  Delivery  EAST GODAVARI   \n",
       "8734       Z Ragampeta B.O   533435         BO  Delivery  EAST GODAVARI   \n",
       "8735        Z.Bhavaram B.O   533462         BO  Delivery  EAST GODAVARI   \n",
       "\n",
       "           StateName  \n",
       "8401  Andhra Pradesh  \n",
       "8402  Andhra Pradesh  \n",
       "8403  Andhra Pradesh  \n",
       "8404  Andhra Pradesh  \n",
       "8405  Andhra Pradesh  \n",
       "...              ...  \n",
       "8731  Andhra Pradesh  \n",
       "8732  Andhra Pradesh  \n",
       "8733  Andhra Pradesh  \n",
       "8734  Andhra Pradesh  \n",
       "8735  Andhra Pradesh  \n",
       "\n",
       "[334 rows x 9 columns]"
      ],
      "text/html": "<div>\n<style scoped>\n    .dataframe tbody tr th:only-of-type {\n        vertical-align: middle;\n    }\n\n    .dataframe tbody tr th {\n        vertical-align: top;\n    }\n\n    .dataframe thead th {\n        text-align: right;\n    }\n</style>\n<table border=\"1\" class=\"dataframe\">\n  <thead>\n    <tr style=\"text-align: right;\">\n      <th></th>\n      <th>Circle Name</th>\n      <th>Region Name</th>\n      <th>Division Name</th>\n      <th>Office Name</th>\n      <th>Pincode</th>\n      <th>OfficeType</th>\n      <th>Delivery</th>\n      <th>District</th>\n      <th>StateName</th>\n    </tr>\n  </thead>\n  <tbody>\n    <tr>\n      <th>8401</th>\n      <td>Andhra Pradesh Circle</td>\n      <td>Visakhapatnam Region</td>\n      <td>Kakinada Division</td>\n      <td>A Kothapalli B.O</td>\n      <td>533408</td>\n      <td>BO</td>\n      <td>Delivery</td>\n      <td>EAST GODAVARI</td>\n      <td>Andhra Pradesh</td>\n    </tr>\n    <tr>\n      <th>8402</th>\n      <td>Andhra Pradesh Circle</td>\n      <td>Visakhapatnam Region</td>\n      <td>Kakinada Division</td>\n      <td>A Mallavaram B.O</td>\n      <td>533449</td>\n      <td>BO</td>\n      <td>Delivery</td>\n      <td>EAST GODAVARI</td>\n      <td>Andhra Pradesh</td>\n    </tr>\n    <tr>\n      <th>8403</th>\n      <td>Andhra Pradesh Circle</td>\n      <td>Visakhapatnam Region</td>\n      <td>Kakinada Division</td>\n      <td>A V Nagaram B.O</td>\n      <td>533449</td>\n      <td>BO</td>\n      <td>Delivery</td>\n      <td>EAST GODAVARI</td>\n      <td>Andhra Pradesh</td>\n    </tr>\n    <tr>\n      <th>8404</th>\n      <td>Andhra Pradesh Circle</td>\n      <td>Visakhapatnam Region</td>\n      <td>Kakinada Division</td>\n      <td>Addaripeta B.O</td>\n      <td>533401</td>\n      <td>BO</td>\n      <td>Delivery</td>\n      <td>EAST GODAVARI</td>\n      <td>Andhra Pradesh</td>\n    </tr>\n    <tr>\n      <th>8405</th>\n      <td>Andhra Pradesh Circle</td>\n      <td>Visakhapatnam Region</td>\n      <td>Kakinada Division</td>\n      <td>Addatigala S.O</td>\n      <td>533428</td>\n      <td>SO</td>\n      <td>Delivery</td>\n      <td>EAST GODAVARI</td>\n      <td>Andhra Pradesh</td>\n    </tr>\n    <tr>\n      <th>...</th>\n      <td>...</td>\n      <td>...</td>\n      <td>...</td>\n      <td>...</td>\n      <td>...</td>\n      <td>...</td>\n      <td>...</td>\n      <td>...</td>\n      <td>...</td>\n    </tr>\n    <tr>\n      <th>8731</th>\n      <td>Andhra Pradesh Circle</td>\n      <td>Visakhapatnam Region</td>\n      <td>Kakinada Division</td>\n      <td>Yendapalli B.O</td>\n      <td>533447</td>\n      <td>BO</td>\n      <td>Delivery</td>\n      <td>EAST GODAVARI</td>\n      <td>Andhra Pradesh</td>\n    </tr>\n    <tr>\n      <th>8732</th>\n      <td>Andhra Pradesh Circle</td>\n      <td>Visakhapatnam Region</td>\n      <td>Kakinada Division</td>\n      <td>Yerramreddypalem B.O</td>\n      <td>533428</td>\n      <td>BO</td>\n      <td>Delivery</td>\n      <td>EAST GODAVARI</td>\n      <td>Andhra Pradesh</td>\n    </tr>\n    <tr>\n      <th>8733</th>\n      <td>Andhra Pradesh Circle</td>\n      <td>Visakhapatnam Region</td>\n      <td>Kakinada Division</td>\n      <td>Yerravaram B.O</td>\n      <td>533435</td>\n      <td>BO</td>\n      <td>Delivery</td>\n      <td>EAST GODAVARI</td>\n      <td>Andhra Pradesh</td>\n    </tr>\n    <tr>\n      <th>8734</th>\n      <td>Andhra Pradesh Circle</td>\n      <td>Visakhapatnam Region</td>\n      <td>Kakinada Division</td>\n      <td>Z Ragampeta B.O</td>\n      <td>533435</td>\n      <td>BO</td>\n      <td>Delivery</td>\n      <td>EAST GODAVARI</td>\n      <td>Andhra Pradesh</td>\n    </tr>\n    <tr>\n      <th>8735</th>\n      <td>Andhra Pradesh Circle</td>\n      <td>Visakhapatnam Region</td>\n      <td>Kakinada Division</td>\n      <td>Z.Bhavaram B.O</td>\n      <td>533462</td>\n      <td>BO</td>\n      <td>Delivery</td>\n      <td>EAST GODAVARI</td>\n      <td>Andhra Pradesh</td>\n    </tr>\n  </tbody>\n</table>\n<p>334 rows × 9 columns</p>\n</div>"
     },
     "metadata": {},
     "execution_count": 7
    }
   ],
   "source": [
    "kkd_eg_df = eg_df[eg_df['Division Name'] == 'Kakinada Division']\n",
    "\n",
    "kkd_eg_df"
   ]
  },
  {
   "cell_type": "code",
   "execution_count": 8,
   "metadata": {},
   "outputs": [
    {
     "output_type": "execute_result",
     "data": {
      "text/plain": [
       "array(['Kakinada Division'], dtype=object)"
      ]
     },
     "metadata": {},
     "execution_count": 8
    }
   ],
   "source": [
    "kkd_eg_df['Division Name'].unique()"
   ]
  },
  {
   "cell_type": "code",
   "execution_count": 9,
   "metadata": {},
   "outputs": [
    {
     "output_type": "execute_result",
     "data": {
      "text/plain": [
       "array(['Visakhapatnam Region'], dtype=object)"
      ]
     },
     "metadata": {},
     "execution_count": 9
    }
   ],
   "source": [
    "kkd_eg_df['Region Name'].unique()"
   ]
  },
  {
   "cell_type": "code",
   "execution_count": 7,
   "metadata": {},
   "outputs": [],
   "source": [
    "states = sorted(df['StateName'].unique())"
   ]
  },
  {
   "cell_type": "code",
   "execution_count": 9,
   "metadata": {},
   "outputs": [
    {
     "output_type": "stream",
     "name": "stdout",
     "text": [
      "['AGRA' 'BASTI' 'South Andaman' 'North And Middle Andaman' 'Nicobar'\n",
      " 'North & Middle Andaman' 'KOLKATA']\n",
      "['ANANTHAPUR' 'Chittoor' 'Madanapalle' 'KADAPA' 'Ananthapur' 'Hindupur'\n",
      " 'Dharmavaram' 'ANANTAPUR' 'Kurnool' 'KURNOOL' 'PRAKASAM' 'Prakasam'\n",
      " 'CHITTOOR' 'West Godavari' 'WEST GODAVARI' 'Palakol' 'VIZIANAGARAM'\n",
      " 'KRISHNA' 'Krishna' 'NELLORE' 'Guntur' 'GUNTUR' 'Machilipatnam'\n",
      " 'Avanigadda' 'Nellore' 'Warangal' 'Kovvur' 'Tadepalligudem'\n",
      " 'East Godavari' 'Bapatla' 'Karim Nagar' 'AMLAPURAM' 'VISAKHAPATNAM'\n",
      " 'Visakhapatnam' 'EAST GODAVARI' 'YANAM' 'SRIKAKULAM' 'Bhadrachalam'\n",
      " 'Srikalahasti' 'Bhongir' 'RANGAREDDY' 'Mahabub Nagar']\n",
      "['WEST GODAVARI' 'Lower Dibang Valley' 'East Siang' 'Dibang Valley'\n",
      " 'West Siang' 'Lohit' 'Papum Pare' 'Tawang' 'West Kameng' 'East Kameng'\n",
      " 'Lower Subansiri' 'Changlang' 'Tirap' 'Kurung Kumey' 'Upper Siang'\n",
      " 'Upper Subansiri' 'Upper Dibang Valley' nan 'LOWER SUBANSIRI'\n",
      " 'PAPUM PARE' 'CHANGLANG']\n",
      "['KARIMGANJ' 'HAILAKANDI' 'CACHAR' 'DIMA HASSO - NORTH CACHAR HILL'\n",
      " 'KARBI ANGLONG' 'UDALGURI' 'SONITPUR' 'DARRANG' 'BONGAIGAON' 'KOKRAJHAR'\n",
      " 'GOALPARA' 'DHUBRI' 'Dhubri' 'KAMRUP' 'KAMRUP METROPOLITAN' 'BAKSA'\n",
      " 'NALBARI' 'BARPETA' 'Barpeta' 'LAKHIMPUR' 'DIBRUGARH' 'DHEMAJI' 'Sonapur'\n",
      " 'MARIGAON' 'NAGAON' 'SIBSAGAR' 'GOLAGHAT' 'JORHAT' 'TINSUKIA']\n",
      "['GAYA' 'AURANGABAD' 'ARWAL' 'AURANAGABAD' 'BHOJPUR' 'BUXAR' 'JEHANABAD'\n",
      " 'KAIMUR BHABUA' 'PATNA' 'JAMUI' 'Patna' 'EAST CHAMPARAN' 'PURNIA'\n",
      " 'ROHTAS' 'VAISHALI' 'SAMASTIPUR' 'BEGUSARAI' 'KHAGARIA' 'Khagaria'\n",
      " 'KATIHAR' 'BHAGALPUR' 'BANKA' 'DEOGHAR' 'KISHANGANJ' 'LAKHISARAI'\n",
      " 'MUNGER' 'SHEIKHPURA' 'NALANDA' 'Nalanda' 'NAWADA' 'Sheikhpura' 'SHEOHAR'\n",
      " 'MADHEPURA' 'SUPAUL' 'SAHARSA' 'DARBHANGA' 'MUZAFFARPUR' 'SITAMARHI'\n",
      " 'MADHUBANI' nan 'WEST CHAMPARAN' 'ARARIA' 'SARAN' 'GOPALGANJ' 'SIWAN'\n",
      " 'BALLIA']\n",
      "['CHANDIGHAR' 'MOHALI' 'BASTI']\n",
      "['BILASPURCGH' 'JANJGIRCHAMPA' 'KORBA' 'MUNGELI' 'Janjgir-Champa' 'DURG'\n",
      " 'RAJNANDGAON' 'BALOD' 'BEMETARA' 'KAWARDHA' 'RAIGARH' 'SURGUJA' 'JASPUR'\n",
      " 'BALRAMPUR' 'KORIYA' 'SURAJPUR' 'GARIABAND' 'MAHASAMUND' 'DHAMTARI'\n",
      " 'RAIPUR' 'BALOD BAZER' 'Kanker' 'Jagdalpur' 'Bastar' 'Dantewada'\n",
      " 'Bijapur(CGH)' 'DANTEWADA' 'Bilaspur' 'Narayanpur' 'SUKMA' 'Raigarh'\n",
      " 'BASTAR' 'Makdi' 'KONDAGAON' 'BIJAPUR(CGH)']\n",
      "['DADRA  NAGAR HAVELI' 'BASTI']\n",
      "['DIU' 'DAMAN' 'BASTI']\n",
      "['EAST DELHI' 'SHAHDARA' 'NORTH EAST DELHI' 'NEW DELHI' 'NORTH DELHI'\n",
      " 'NORTH WEST DELHI' 'CENTRAL DELHI' 'SOUTH DELHI' 'New Delhi'\n",
      " 'SOUTH WEST DELHI' 'WEST DELHI' 'SIDDHARTHNAGAR']\n",
      "['DARBHANGA' 'SOUTH GOA' 'NORTH GOA']\n",
      "['BANKA' 'DARBHANGA' 'AHMEDABAD' 'GANDHI NAGAR' 'Ahmedabad City'\n",
      " 'BANASKANTHA' 'BHARUCH' nan 'BOTAB' 'MAHESANA' 'Gandhinagar' 'PATAN'\n",
      " 'SABARKANTHA' 'ARAVALLI' 'AMRELI' 'ANAND' 'BHAVNAGAR' 'RAJKOT' 'JAMNAGAR'\n",
      " 'DEVBHOOMI DWERKA' 'MORBI' 'GIR SOMNATH' 'JUNAGADH' 'Junagadh' 'KACHCHH'\n",
      " 'PORBANDAR' 'Porbandar' 'Morbi' 'SURENDRA NAGAR' 'KHEDA' 'MAHISAGAR'\n",
      " 'SURAT' 'TAPI' 'DANGS' 'NARMADA' 'NAVSARI' 'DAHOD' 'PANCH MAHALS' 'Surat'\n",
      " 'VADODARA' 'Chhotaudepur' 'CHHOTA UDEPUR' 'VALSAD']\n",
      "['DARBHANGA' 'SOUTH WEST DELHI' 'AMBALA' 'YAMUNANAGAR' 'PANCHKULA'\n",
      " 'Ambala' 'Ambala City' 'BHIWANI' 'Bhiwani' 'FARIDABAD' 'PALWAL' 'MEWAT'\n",
      " 'REWARI' 'GURGAON' 'MAHENDRAGARH' 'FATEHABAD' 'SIRSA' 'HISAR' 'KARNAL'\n",
      " 'PANIPAT' 'JIND' 'Panipat' 'Jind' 'KURUKSHETRA' 'KAITHAL' 'Kaithal'\n",
      " 'Kurukshetra' 'JHAJJAR' 'ROHTAK' 'SONIPAT']\n",
      "['DARBHANGA' 'BHIWANI' 'JHAJJAR' 'CHAMBA' 'KANGRA' 'HAMIRPURHP' nan\n",
      " 'BILASPUR HP' 'HAMIRPUR(HP)' 'BILASPUR (HP)' 'MANDI' 'KULLU'\n",
      " 'LAHUL  SPITI' 'KINNAUR' 'SHIMLA' 'SIRMAUR' 'SOLAN' 'UNA']\n",
      "['DARBHANGA' 'ROHTAK' 'Bandipur' 'BANDIPUR' 'Kupwara' 'BARAMULLA'\n",
      " 'Baramulla' 'KUPWARA' 'KULGAM' 'SAMBA' 'JAMMU' 'KATHUA' 'POONCH' 'KARGIL'\n",
      " 'RAJAURI' 'PULWAMA' 'BUDGAM' 'SRINAGAR' 'ANANTHNAG' 'GANDERBAL' 'SHOPIAN'\n",
      " 'REASI' 'DODA' 'RAMBAN' 'UDHAMPUR' 'Kargil' 'Leh']\n",
      "['DHANBAD' 'BOKARO' 'Dhanbad' 'GIRIDH' 'HAZARIBAG' 'CHATRA' 'Chatra'\n",
      " 'Ramgarh' 'RAMGARH' 'KODERMA' 'Koderma' 'Hazaribagh' 'PALAMAU' 'GUMLA'\n",
      " 'LATEHAR' 'GARHWA' 'PAKUR' 'RANCHI' 'SIMDEGA' 'Lohardaga' 'KHUNTI'\n",
      " 'LOHARDAGA' 'Khunti' 'Gumla' 'Simdega' 'WEST SINGHBHUM' 'GODDA' 'JAMTARA'\n",
      " 'SAHIBGANJ' 'DEOGHAR' 'DUMKA' 'SERAIKELAKHARSAWAN' 'EAST SINGHBHUM'\n",
      " 'SHOPIAN']\n",
      "['DARBHANGA' 'JHAJJAR' 'BENGALURU' 'Bangalore' 'BENGALURU RURAL'\n",
      " 'Bengaluru' 'RAMANAGAR' 'Ramdurg' 'Ramanagara' 'BAGALKOT' 'BELLARY'\n",
      " 'DAVANGERE' 'BALLARI' 'BELAGAVI' 'Bidar' 'BIDAR' 'Belgaum' 'Hubballi'\n",
      " 'Dharwad' 'Madikeri' 'Arsikere' 'Kundgol' 'Kalghatgi' 'GADAG' 'KOPPAL'\n",
      " 'Koppal' 'DHARWAD' 'HAVERI' 'Haveri' 'KALABURAGI' 'YADGIR' 'Gulbarga'\n",
      " 'UTTARA KANNADA' 'RAICHUR' 'Uttara Kannada' 'Siddapur' 'Joida'\n",
      " 'BIJAPUR(KAR)' 'BIJAPUR' 'CHICKMAGALUR' 'Chikkamagaluru' 'CHITRADURGA'\n",
      " 'Davangere' 'HASSAN' 'Kodagu' 'Athani' 'Jamkhandi' 'Kollegal'\n",
      " 'CHIKKABALLAPUR' 'KOLAR' 'KODAGU' 'Kolar' 'Mandya' 'Dakshina Kannada'\n",
      " 'Udupi' 'Mysuru' 'Saraswathipuram' 'Hanagodu' 'MYSORE' 'Hunsur'\n",
      " 'Chamrajnagar' 'Bailhongal' 'Nanjangud' 'Sagar' 'CHAMARAJANAGAR'\n",
      " 'DAKSHINA KANNADA' 'UDUPI' 'SHIVAMOGGA' 'Shivamogga' 'TUMAKURU']\n",
      "['DARBHANGA' 'JHAJJAR' 'KOLLEGAL' 'KOLLAM' 'PATHANAMTHITTA' 'ALAPPUZHA'\n",
      " 'THIRUVANANTHAPURAM' 'Thiruvananthapuram' 'WAYANAD' 'KOZHIKODE'\n",
      " 'MALAPPURAM' 'KANNUR' 'KASARGOD' 'Kasaragod' 'PALAKKAD' 'Thalassery'\n",
      " 'MALAPPURM' 'MAHE' 'ERNAKULAM' 'KOTTAYAM' 'IDUKKI' 'THRISSUR'\n",
      " 'Pathanamthitta']\n",
      "['Lakshadweep' 'Kochi' 'LAKSHADWEEP' 'SIDDHARTHNAGAR']\n",
      "['DARBHANGA' 'JHAJJAR' 'SEONI' 'BALAGHAT' 'Seoni' 'Balaghat' 'BHOPAL'\n",
      " 'RAISEN' 'CHHATARPUR' 'TIKAMGARH' 'PANNA' 'CHHINDWARA' 'BETUL'\n",
      " 'HOSHANGABAD' 'HARDA' 'NARSINGHPUR' 'Hoshangabad' 'SEHORE' 'SATNA' 'REWA'\n",
      " 'DAMOH' 'SAGAR' 'DATIA' 'ANUPPUR' 'UMARIA' 'SHAHDOL' 'SIDHI' 'SINGRAULI'\n",
      " 'VIDISHA' 'ASHOK NAGAR' 'SHIVPURI' 'GUNA' 'GWALIOR' 'INDORE' 'Indore'\n",
      " 'DEWAS' 'DHAR' 'KATNI' 'JABALPUR' 'KHANDWA' 'KHARGONE' 'BARWANI'\n",
      " 'BURHANPUR' 'NEEMUCH' 'MANDSAUR' 'Neemuch' 'BHIND' 'MORENA' 'SHEOPUR'\n",
      " 'AGAR MALWA' 'RATLAM' 'JHABUA' 'ALIRAJPUR' 'RAJGARH' 'UJJAIN' 'SHAJAPUR'\n",
      " 'MANDLA' 'DINDORI']\n",
      "['DARBHANGA' 'JHAJJAR' 'JALNA' 'AURANGABAD' 'BEED' 'Jalgaon' 'BHUSAWAL'\n",
      " 'DHULE' 'NANDURBAR' 'JALGAON' 'JALGOAN' 'NANDED' 'LATUR' 'OSMANABAD'\n",
      " 'HINGOLI' 'PARBHANI' 'Kolhapur' 'RATNAGIRI' 'Ratnagiri' 'RAIGARH(MH)'\n",
      " 'Sangli' 'Miraj' 'SINDHUDURG' 'MUMBAI' 'MUMBAI SUBUEBAN' 'AKOLA' 'WASHIM'\n",
      " 'AMRAVATI' 'BULDHANA' 'GADCHIROLI' 'CHANDRAPUR' 'Gadchiroli' 'Chandrapur'\n",
      " 'Nagpur' 'NAGPUR' 'GONDIA' 'BHANDARA' 'WARDHA' 'Yavatmal' 'Malegaon' nan\n",
      " 'NASHIK' 'Nashik' 'THANE' 'PALGHAR' 'RAIGARH' 'AHMED NAGAR' 'SOLAPUR'\n",
      " 'PUNE' 'Pune' 'SATARA' 'Ahmed Nagar' 'Shrirampur']\n",
      "['JHAJJAR' 'Imphal West' 'Churachandpur' 'Thoubal' 'Ukhrul' 'Tamenglong'\n",
      " 'Chandel' 'Imphal East' 'Bishnupur' 'Senapati' nan 'Tengnoupal' 'Imphal'\n",
      " 'Jiribam' 'THANLON' 'West Tripura']\n",
      "['JHAJJAR' 'West Garo Hills' 'Jaintia Hills' nan 'East Khasi Hills'\n",
      " 'South Garo Hills' 'East Garo Hills' 'Ri Bhoi' 'Shillong'\n",
      " 'West Khasi Hills' 'Tura' 'West Jaintia Hills' 'South West Khasi Hills'\n",
      " 'East Jaintia Hills']\n",
      "['JHAJJAR' 'Aizawl' 'Mammit' 'Lunglei' 'Kolasib' 'Lawngtlai' nan\n",
      " 'Champhai' 'Saiha' 'Serchhip' 'Aizawal' 'Mamit' 'West Tripura']\n",
      "['JHAJJAR' 'Zunhebotto' 'Dimapur' 'Wokha' 'Phek' 'Zunheboto' 'Mokokchung'\n",
      " 'Kiphire' 'Tuensang' 'Mon' 'Kohima' 'Peren' 'Longleng' nan]\n",
      "['JHAJJAR' 'KHORDA' 'BALESWAR' 'BALASORE' 'BHADRAK' 'KENDUJHAR' 'CUTTACK'\n",
      " 'JAJAPUR' 'KENDRAPARA' 'JAGATSINGHAPUR' 'Cuttack' 'MAYURBHANJ'\n",
      " 'NABARANGAPUR' 'PURI' 'NAYAGARH' 'GANJAM' 'KANDHAMAL' 'GAJAPATI'\n",
      " 'KALAHANDI' 'NUAPADA' 'KORAPUT' 'MALKANGIRI' 'RAYAGADA' 'BOUDH'\n",
      " 'Kandhamal' 'BALANGIR' 'SONAPUR' 'ANGUL' 'DHENKANAL' 'SAMBALPUR'\n",
      " 'BARGARH' 'JHARSUGUDA' 'DEBAGARH' 'SUNDERGARH']\n",
      "['PONDICHERRY' 'VILLUPURAM' 'SIDDHARTHNAGAR']\n",
      "['JHAJJAR' 'ROPAR' 'CHANDIGHAR' 'MOHALI' 'RUPNAGAR' 'MOGA' 'LUDHIANA'\n",
      " 'FATEHGARH SAHIB' 'PATIALA' 'SANGRUR' 'AMRITSAR' 'TARN TARAN' 'BATHINDA'\n",
      " 'MANSA' 'BARNALA' 'MUKTSAR' 'FARIDKOT' 'FAZILKA' 'FIROZPUR' 'Ferozepur'\n",
      " 'PATHANKOT' 'GURDASPUR' 'HOSHIARPUR' 'JALANDHAR' 'NAWANSHAHR'\n",
      " 'KAPURTHALA']\n",
      "['JHAJJAR' 'ALWAR' 'BANSWARA' 'BHARATPUR' 'DHOLPUR' 'JAIPUR' 'Jaipur'\n",
      " 'DAUSA' 'SAWAI MADHOPUR' 'KARAULI' 'KOTA' 'AJMER' 'BHILWARA' 'PRATAPGHAR'\n",
      " 'CHITTORGARH' 'PALI' 'DUNGARPUR' 'BARAN' 'JHALAWAR' 'BUNDI' 'TONK'\n",
      " 'RAJSAMAND' 'UDAIPUR' 'BARMER' 'BIKANER' 'CHURU' 'JHUJHUNU' 'JODHPUR'\n",
      " 'JAISALMER' 'NAGAUR' 'SIKAR' 'SIROHI' 'JALOR' 'SRI GANGANAGAR'\n",
      " 'HANUMANGARH' 'SRIGANGANAGAR']\n",
      "['JHAJJAR' 'Dimapur' 'EAST SIKKIM' 'WEST SIKKIM' 'SOUTH SIKKIM'\n",
      " 'NORTH SIKKIM']\n",
      "['JHAJJAR' 'CUDDALORE' 'VILLUPURAM' 'NAGAPATTINAM' 'PERAMBALUR'\n",
      " 'DHARMAPURI' 'KARUR' 'TIRUCHIRAPPALLI' 'TIRUPPUR' 'SIVAGANGA'\n",
      " 'PUDUKKOTTAI' 'DINDIGUL' 'TIRUVARUR' 'THANJAVUR' 'KARAIKAL'\n",
      " 'Nagapattinam' 'ARIYALUR' 'SALEM' 'Ariyalur' 'VELLORE' 'Chennai'\n",
      " 'TIRUVANNAMALAI' 'Vellore' 'KANCHIPURAM' 'Kanchipuram' 'CHENNAI'\n",
      " 'TIRUVALLUR' 'Tiruvallur' 'PONDICHERRY' 'KANYAKUMARI' 'RAMANATHAPURAM'\n",
      " 'TUTICORIN' 'TIRUNELVELI' 'Tirunelveli' 'VIRUDHUNAGAR' 'MADURAI' 'THENI'\n",
      " 'COIMBATORE' 'KRISHNAGIRI' 'ERODE' 'NAMAKKAL' 'Salem' 'Namakkal'\n",
      " 'NILGIRIS' 'Nilgiris']\n",
      "['VIZIANAGARAM' 'KODERMA' 'HYDERABAD' 'RANGAREDDY' 'Rangareddy'\n",
      " 'Hyderabad' 'Ranga Reddy' 'SIDDIPET' 'MEDAK' 'KARIM NAGAR' 'Mancherial'\n",
      " 'SANGAREDDY' 'ZAHEERABAD' 'KHAMMAM' 'Vikarabad' 'Trimulgherry' 'NALGONDA'\n",
      " 'Secunderabad' 'K.V.Rangareddy' 'MANCHERIAL' 'ADILABAD' 'NIRMAL'\n",
      " 'WARANGAL' 'Warangal' 'Parkal' 'Hanamkonda' 'Jangaon' 'JAYASHANKAR'\n",
      " 'BHUPALPALLI' 'SIRCILLA' 'JAGTIAL' 'PEDDAPALLI' 'KOTHAGUDEM'\n",
      " 'KOTHAGUDEM COLLS' 'BHADRACHALAM' 'MAHABUB NAGAR' 'GADWAL' 'WANAPARTHY'\n",
      " 'VIKARABAD' 'Gadwal' 'BHONGIR' 'JANGAON' 'NIZAMABAD' 'KAMAREDDY'\n",
      " 'SURYAPET' 'NAGAR KURNOOL' 'STN. JADCHERLA' 'MAHABUBABAD'\n",
      " 'Warangal Rural' 'Mahabubabad' 'Mahabuababad']\n",
      "['JHAJJAR' 'South Tripura' 'West Tripura' 'Gomati' nan 'Sepahijala'\n",
      " 'Agartala�' 'Gomti' 'Dhalai' 'North Tripura' 'Khowai' 'Dharmanagar']\n",
      "['AURANGABAD' 'JHAJJAR' 'RAIGARH(MH)' 'AGRA' 'ALIGARH' 'HATHRAS' 'Aligarh'\n",
      " 'BULANDSHAHR' 'ALLAHABAD' 'GAUTAM BUDDHA NAGAR' 'ETAH' 'KANSHIRAM NAGAR'\n",
      " 'ETAWAH' 'AURAIYA' 'JHANSI' 'JALAUN' 'LALITPUR' 'HAPUR' 'FIROZABAD'\n",
      " 'MAINPURI' 'FAIZABAD' 'RAEBARELI' 'MATHURA' 'KAUSHAMBI'\n",
      " 'Prayagraj Allahabad' 'KUSHINAGAR' 'GHAZIPUR' 'VARANASI' 'SONBHADRA'\n",
      " 'MIRZAPUR' 'PRATAPGARH' 'KANPUR DEHAT' 'SULTANPUR' 'AMETHI' 'PILIBHIT'\n",
      " 'BAREILLY' 'Pilibhit' 'BIJNOR' 'BUDAUN' 'HARDOI' 'KHERI' 'MEERUT'\n",
      " 'BAGPAT' 'AMROHA' 'SAMBHAL' 'RAMPUR' 'MORADABAD' 'KANPUR NAGAR'\n",
      " 'MUZAFFARNAGAR' 'SAHARANPUR' 'HARIDWAR' 'SHAHJAHANPUR' 'Shahjahanpur'\n",
      " 'SANT RAVIDAS NAGAR' 'AZAMGARH' 'MAU' 'SHRAWASTI' 'BAHRAICH'\n",
      " 'SIDDHARTHNAGAR' 'BASTI' 'SANT KABIR NAGAR' 'DEORIA' 'GONDA' 'BALRAMPUR'\n",
      " 'GORAKHPUR' 'MAHARAJGANJ' 'MAHRAJGANJ' 'Gorakhpur' 'Maharajganj' 'BANDA'\n",
      " 'CHITRAKOOT' 'MAHOBA' 'HAMIRPUR' 'KANNAUJ' 'FARRUKHABAD' 'FATEHPUR'\n",
      " 'UNNAO' 'BARABANKI' 'AMBEDKAR NAGAR' 'GHAZIABAD' 'LUCKNOW' 'Lucknow'\n",
      " 'SITAPUR' 'BALLIA' 'JAUNPUR' 'CHANDAULI' 'Varanasi']\n",
      "['HAZARIBAG' 'ALMORA' 'BAGESHWAR' 'CHAMOLI' 'RUDRAPRAYAG' 'HARIDWAR'\n",
      " 'DEHRADUN' 'NAINITAL' 'CHAMPAWAT' 'UDHAM SINGH NAGAR' 'PAURI GARHWAL'\n",
      " 'PITHORAGARH' 'TEHRI GARHWAL' 'UTTARKASHI']\n",
      "['SIDDHARTHNAGAR' 'EAST SIKKIM' 'NORTH SIKKIM' 'SOUTH SIKKIM' 'Port Blair'\n",
      " 'Kolkata' 'NORTH 24 PARGANAS' 'BIRBHUM' 'KOLKATA' 'SOUTH 24 PARGANAS'\n",
      " 'North 24 Parganas' 'MURSHIDABAD' 'MEDINIPUR' 'NADIA' 'COOCH BEHAR'\n",
      " 'JALPAIGURI' 'DARJILING' 'EAST MIDNAPORE' 'Darjeeling' 'Kalimpong'\n",
      " 'WEST MIDNAPORE' 'SOUTH DINAJPUR' 'NORTH DINAJPUR' 'MALDA' 'BARDHAMAN'\n",
      " 'Paschim Bardhaman' 'BANKURA' 'Bankura' 'HOOGHLY' 'HOWRAH' 'PURULIYA']\n"
     ]
    }
   ],
   "source": [
    "for state in states:\n",
    "    state_df = df[df['StateName'] == state]\n",
    "    districts = state_df['District'].unique()\n",
    "    print(districts)"
   ]
  },
  {
   "cell_type": "code",
   "execution_count": 10,
   "metadata": {},
   "outputs": [],
   "source": [
    "df['District'] = df['District'].str.lower()"
   ]
  },
  {
   "cell_type": "code",
   "execution_count": 11,
   "metadata": {},
   "outputs": [
    {
     "output_type": "execute_result",
     "data": {
      "text/plain": [
       "             Circle Name     Region Name       Division Name  \\\n",
       "0  Andhra Pradesh Circle  Kurnool Region  Anantapur Division   \n",
       "1  Andhra Pradesh Circle  Kurnool Region  Anantapur Division   \n",
       "2  Andhra Pradesh Circle  Kurnool Region  Anantapur Division   \n",
       "3  Andhra Pradesh Circle  Kurnool Region  Anantapur Division   \n",
       "4  Andhra Pradesh Circle  Kurnool Region  Anantapur Division   \n",
       "\n",
       "           Office Name  Pincode OfficeType  Delivery    District  \\\n",
       "0  A Narayanapuram B.O   515004         BO  Delivery  ananthapur   \n",
       "1          Akuledu B.O   515731         BO  Delivery  ananthapur   \n",
       "2          Alamuru B.O   515002         BO  Delivery  ananthapur   \n",
       "3        Allapuram B.O   515766         BO  Delivery  ananthapur   \n",
       "4            Aluru B.O   515415         BO  Delivery  ananthapur   \n",
       "\n",
       "        StateName  \n",
       "0  Andhra Pradesh  \n",
       "1  Andhra Pradesh  \n",
       "2  Andhra Pradesh  \n",
       "3  Andhra Pradesh  \n",
       "4  Andhra Pradesh  "
      ],
      "text/html": "<div>\n<style scoped>\n    .dataframe tbody tr th:only-of-type {\n        vertical-align: middle;\n    }\n\n    .dataframe tbody tr th {\n        vertical-align: top;\n    }\n\n    .dataframe thead th {\n        text-align: right;\n    }\n</style>\n<table border=\"1\" class=\"dataframe\">\n  <thead>\n    <tr style=\"text-align: right;\">\n      <th></th>\n      <th>Circle Name</th>\n      <th>Region Name</th>\n      <th>Division Name</th>\n      <th>Office Name</th>\n      <th>Pincode</th>\n      <th>OfficeType</th>\n      <th>Delivery</th>\n      <th>District</th>\n      <th>StateName</th>\n    </tr>\n  </thead>\n  <tbody>\n    <tr>\n      <th>0</th>\n      <td>Andhra Pradesh Circle</td>\n      <td>Kurnool Region</td>\n      <td>Anantapur Division</td>\n      <td>A Narayanapuram B.O</td>\n      <td>515004</td>\n      <td>BO</td>\n      <td>Delivery</td>\n      <td>ananthapur</td>\n      <td>Andhra Pradesh</td>\n    </tr>\n    <tr>\n      <th>1</th>\n      <td>Andhra Pradesh Circle</td>\n      <td>Kurnool Region</td>\n      <td>Anantapur Division</td>\n      <td>Akuledu B.O</td>\n      <td>515731</td>\n      <td>BO</td>\n      <td>Delivery</td>\n      <td>ananthapur</td>\n      <td>Andhra Pradesh</td>\n    </tr>\n    <tr>\n      <th>2</th>\n      <td>Andhra Pradesh Circle</td>\n      <td>Kurnool Region</td>\n      <td>Anantapur Division</td>\n      <td>Alamuru B.O</td>\n      <td>515002</td>\n      <td>BO</td>\n      <td>Delivery</td>\n      <td>ananthapur</td>\n      <td>Andhra Pradesh</td>\n    </tr>\n    <tr>\n      <th>3</th>\n      <td>Andhra Pradesh Circle</td>\n      <td>Kurnool Region</td>\n      <td>Anantapur Division</td>\n      <td>Allapuram B.O</td>\n      <td>515766</td>\n      <td>BO</td>\n      <td>Delivery</td>\n      <td>ananthapur</td>\n      <td>Andhra Pradesh</td>\n    </tr>\n    <tr>\n      <th>4</th>\n      <td>Andhra Pradesh Circle</td>\n      <td>Kurnool Region</td>\n      <td>Anantapur Division</td>\n      <td>Aluru B.O</td>\n      <td>515415</td>\n      <td>BO</td>\n      <td>Delivery</td>\n      <td>ananthapur</td>\n      <td>Andhra Pradesh</td>\n    </tr>\n  </tbody>\n</table>\n</div>"
     },
     "metadata": {},
     "execution_count": 11
    }
   ],
   "source": [
    "df.head()"
   ]
  },
  {
   "cell_type": "code",
   "execution_count": 12,
   "metadata": {},
   "outputs": [
    {
     "output_type": "stream",
     "name": "stdout",
     "text": [
      "<class 'pandas.core.frame.DataFrame'>\nRangeIndex: 155599 entries, 0 to 155598\nData columns (total 9 columns):\n #   Column         Non-Null Count   Dtype \n---  ------         --------------   ----- \n 0   Circle Name    155599 non-null  object\n 1   Region Name    122087 non-null  object\n 2   Division Name  155599 non-null  object\n 3   Office Name    155599 non-null  object\n 4   Pincode        155599 non-null  int64 \n 5   OfficeType     155599 non-null  object\n 6   Delivery       155599 non-null  object\n 7   District       155525 non-null  object\n 8   StateName      155599 non-null  object\ndtypes: int64(1), object(8)\nmemory usage: 10.7+ MB\n"
     ]
    }
   ],
   "source": [
    "df.info()"
   ]
  },
  {
   "cell_type": "code",
   "execution_count": 13,
   "metadata": {},
   "outputs": [
    {
     "output_type": "stream",
     "name": "stdout",
     "text": [
      "Circle Name\nRegion Name\nDivision Name\nOffice Name\nPincode\nOfficeType\nDelivery\nDistrict\nStateName\n"
     ]
    }
   ],
   "source": [
    "for column in df.columns:\n",
    "    df[column] = df[column].astype(str)\n"
   ]
  },
  {
   "cell_type": "code",
   "execution_count": null,
   "metadata": {},
   "outputs": [],
   "source": []
  }
 ]
}