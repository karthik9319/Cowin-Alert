{
 "metadata": {
  "language_info": {
   "codemirror_mode": {
    "name": "ipython",
    "version": 3
   },
   "file_extension": ".py",
   "mimetype": "text/x-python",
   "name": "python",
   "nbconvert_exporter": "python",
   "pygments_lexer": "ipython3",
   "version": "3.8.8"
  },
  "orig_nbformat": 2,
  "kernelspec": {
   "name": "python388jvsc74a57bd0d9cdf73c7b123388954cdb0d73bbcefa11b8b58acf57d6397afd25ecc6e3042a",
   "display_name": "Python 3.8.8 64-bit ('base': conda)"
  }
 },
 "nbformat": 4,
 "nbformat_minor": 2,
 "cells": [
  {
   "cell_type": "code",
   "execution_count": 46,
   "metadata": {},
   "outputs": [],
   "source": [
    "pin = 721302\n",
    "date = \"31-03-2021\""
   ]
  },
  {
   "cell_type": "code",
   "execution_count": 61,
   "metadata": {},
   "outputs": [],
   "source": [
    "api = \"https://cdn-api.co-vin.in/api/v2/appointment/sessions/public/findByPin?pincode=\" + \"533003\" + \"&date=\" + \"11-05-2021\""
   ]
  },
  {
   "cell_type": "code",
   "execution_count": 62,
   "metadata": {},
   "outputs": [],
   "source": [
    "import requests"
   ]
  },
  {
   "cell_type": "code",
   "execution_count": 63,
   "metadata": {},
   "outputs": [],
   "source": [
    "headers = {'User-Agent': 'Mozilla/5.0 (Macintosh; Intel Mac OS X 10_11_5) AppleWebKit/537.36 (KHTML, like Gecko) Chrome/50.0.2661.102 Safari/537.36'}\n",
    "response = requests.get(api, headers = headers)"
   ]
  },
  {
   "cell_type": "code",
   "execution_count": 64,
   "metadata": {},
   "outputs": [
    {
     "output_type": "execute_result",
     "data": {
      "text/plain": [
       "{'sessions': []}"
      ]
     },
     "metadata": {},
     "execution_count": 64
    }
   ],
   "source": [
    "s = response.json()\n",
    "s"
   ]
  },
  {
   "cell_type": "code",
   "execution_count": 32,
   "metadata": {},
   "outputs": [
    {
     "output_type": "error",
     "ename": "IndentationError",
     "evalue": "unindent does not match any outer indentation level (<tokenize>, line 4)",
     "traceback": [
      "\u001b[0;36m  File \u001b[0;32m\"<tokenize>\"\u001b[0;36m, line \u001b[0;32m4\u001b[0m\n\u001b[0;31m    print(centers)\u001b[0m\n\u001b[0m    ^\u001b[0m\n\u001b[0;31mIndentationError\u001b[0m\u001b[0;31m:\u001b[0m unindent does not match any outer indentation level\n"
     ]
    }
   ],
   "source": [
    "def parse_json(result):\n",
    "\toutput = []\n",
    "\tcenters = result['centers']\n",
    "    print(centers)\n",
    "\t# for center in centers:\n",
    "\t# \tsessions = center['sessions']\n",
    "\t# \tfor session in sessions:\n",
    "\n",
    "\t# \t\t# if session['available_capacity'] > 0:\n",
    "    #         res = { 'name': center['name'], 'block_name':center['block_name'],'age_limit':session['min_age_limit'], 'vaccine_type':session['vaccine'] , 'date':session['date'],'available_capacity':session['available_capacity'] }\n",
    "\t# \t\t\t# if res['age_limit'] in age_limit:\n",
    "\t# \t\toutput.append(res)\n",
    "\t# return output"
   ]
  },
  {
   "cell_type": "code",
   "execution_count": 35,
   "metadata": {},
   "outputs": [
    {
     "output_type": "execute_result",
     "data": {
      "text/plain": [
       "{'sessions': []}"
      ]
     },
     "metadata": {},
     "execution_count": 35
    }
   ],
   "source": [
    "result = response.json()\n",
    "result\n",
    "# output = parse_json(result)"
   ]
  },
  {
   "cell_type": "code",
   "execution_count": 18,
   "metadata": {},
   "outputs": [
    {
     "output_type": "execute_result",
     "data": {
      "text/plain": [
       "{'sessions': []}"
      ]
     },
     "metadata": {},
     "execution_count": 18
    }
   ],
   "source": [
    "response.json()"
   ]
  },
  {
   "cell_type": "code",
   "execution_count": 78,
   "metadata": {},
   "outputs": [],
   "source": [
    "url = \"https://cdn-api.co-vin.in/api/v2/appointment/sessions/public/calendarByDistrict?district_id=\" + \"512\" + \"&date=\"+\"11-05-2021\""
   ]
  },
  {
   "cell_type": "code",
   "execution_count": 76,
   "metadata": {},
   "outputs": [],
   "source": [
    "headers = {'User-Agent': 'Mozilla/5.0 (Macintosh; Intel Mac OS X 10_11_5) AppleWebKit/537.36 (KHTML, like Gecko) Chrome/50.0.2661.102 Safari/537.36'}\n",
    "response = requests.get(url, headers = headers)"
   ]
  },
  {
   "cell_type": "code",
   "execution_count": 77,
   "metadata": {},
   "outputs": [
    {
     "output_type": "execute_result",
     "data": {
      "text/plain": [
       "{'centers': []}"
      ]
     },
     "metadata": {},
     "execution_count": 77
    }
   ],
   "source": [
    "h = response.json()\n",
    "h"
   ]
  },
  {
   "cell_type": "code",
   "execution_count": 28,
   "metadata": {},
   "outputs": [],
   "source": [
    "url = \"https://cdn-api.co-vin.in/api/v2/appointment/sessions/public/findByPin?pincode=533004&date=31-05-2021\"\n",
    "# headers = {'Server': 'CloudFront', 'Date': 'Sat, 15 May 2021 07:37:22 GMT', 'Content-Type': 'text/html', 'Content-Length': '919', 'Connection': 'keep-alive', 'X-Cache': 'Error from cloudfront', 'Via': '1.1 5457b62b055b2a895e3a842fd5066a6c.cloudfront.net (CloudFront)', 'X-Amz-Cf-Pop': 'BLR50-C2', 'X-Amz-Cf-Id': 'U4fusH75tl6FASONDY2Ij5g1DcUVSw0iFlmryDZp3BJe8Vv7AilB3A=='}\n",
    "headers = {'User-Agent': \"Mozilla/5.0 (Macintosh; Intel Mac OS X 10_11_5) AppleWebKit/537.36 (KHTML, like Gecko) Chrome/50.0.2661.102 Safari/537.36\"}\n"
   ]
  },
  {
   "cell_type": "code",
   "execution_count": 29,
   "metadata": {},
   "outputs": [
    {
     "output_type": "execute_result",
     "data": {
      "text/plain": [
       "200"
      ]
     },
     "metadata": {},
     "execution_count": 29
    }
   ],
   "source": [
    "import requests\n",
    "response = requests.get(url, headers= headers)\n",
    "response.status_code"
   ]
  },
  {
   "cell_type": "code",
   "execution_count": 30,
   "metadata": {},
   "outputs": [
    {
     "output_type": "execute_result",
     "data": {
      "text/plain": [
       "{'sessions': []}"
      ]
     },
     "metadata": {},
     "execution_count": 30
    }
   ],
   "source": [
    "response.json()"
   ]
  },
  {
   "cell_type": "code",
   "execution_count": 31,
   "metadata": {},
   "outputs": [
    {
     "output_type": "execute_result",
     "data": {
      "text/plain": [
       "{'_content': b'{\"sessions\":[]}',\n",
       " '_content_consumed': True,\n",
       " '_next': None,\n",
       " 'status_code': 200,\n",
       " 'headers': {'Content-Type': 'application/json; charset=utf-8', 'Content-Length': '15', 'Connection': 'keep-alive', 'Date': 'Sat, 15 May 2021 07:47:00 GMT', 'x-amzn-RequestId': '10e6821b-c02e-4869-be9a-7cb64ea3980e', 'X-DNS-Prefetch-Control': 'off', 'X-XSS-Protection': '1; mode=block', 'Access-Control-Allow-Origin': '*', 'Strict-Transport-Security': 'max-age=15552000; includeSubDomains', 'x-amzn-Remapped-Content-Length': '15', 'X-Frame-Options': 'DENY', 'Access-Control-Allow-Headers': 'Content-Type, Authorization', 'x-amzn-Remapped-Connection': 'keep-alive', 'X-Download-Options': 'noopen', 'x-amz-apigw-id': 'fXBiMGkLhcwFdMw=', 'X-Content-Type-Options': 'nosniff', 'ETag': 'W/\"f-B4CJ7xPoUVqbtHp+E2r8zsgEV7k\"', 'Access-Control-Allow-Methods': 'GET,POST,OPTIONS', 'Access-Control-Expose-Headers': 'Version', 'X-Amzn-Trace-Id': 'Root=1-609f7c74-5111882c6405562e5f59a9a0', 'x-amzn-Remapped-Date': 'Sat, 15 May 2021 07:47:00 GMT', 'Access-Control-Allow-Credentials': 'true', 'X-Cache': 'Miss from cloudfront', 'Via': '1.1 8291b4ac226bc4918e5c5009de0369ea.cloudfront.net (CloudFront)', 'X-Amz-Cf-Pop': 'BLR50-C2', 'X-Amz-Cf-Id': 'xCkNgQpdd1H3TsB2HPoNCYno9p1cLcyZTJoX6fCNnLfYoOvucZt92w=='},\n",
       " 'raw': <urllib3.response.HTTPResponse at 0x7f8fc68985b0>,\n",
       " 'url': 'https://cdn-api.co-vin.in/api/v2/appointment/sessions/public/findByPin?pincode=533004&date=31-05-2021',\n",
       " 'encoding': 'utf-8',\n",
       " 'history': [],\n",
       " 'reason': 'OK',\n",
       " 'cookies': <RequestsCookieJar[]>,\n",
       " 'elapsed': datetime.timedelta(microseconds=217339),\n",
       " 'request': <PreparedRequest [GET]>,\n",
       " 'connection': <requests.adapters.HTTPAdapter at 0x7f8fc68bd760>}"
      ]
     },
     "metadata": {},
     "execution_count": 31
    }
   ],
   "source": [
    "response.__dict__"
   ]
  },
  {
   "cell_type": "code",
   "execution_count": 24,
   "metadata": {},
   "outputs": [
    {
     "output_type": "execute_result",
     "data": {
      "text/plain": [
       "{'sessions': []}"
      ]
     },
     "metadata": {},
     "execution_count": 24
    }
   ],
   "source": [
    "reply = response.json()\n",
    "reply"
   ]
  },
  {
   "cell_type": "code",
   "execution_count": 44,
   "metadata": {},
   "outputs": [
    {
     "output_type": "error",
     "ename": "TypeError",
     "evalue": "'Response' object is not subscriptable",
     "traceback": [
      "\u001b[0;31m---------------------------------------------------------------------------\u001b[0m",
      "\u001b[0;31mTypeError\u001b[0m                                 Traceback (most recent call last)",
      "\u001b[0;32m<ipython-input-44-a02620707dfb>\u001b[0m in \u001b[0;36m<module>\u001b[0;34m\u001b[0m\n\u001b[0;32m----> 1\u001b[0;31m \u001b[0mresponse\u001b[0m\u001b[0;34m[\u001b[0m\u001b[0;34m'sessions'\u001b[0m\u001b[0;34m]\u001b[0m\u001b[0;34m\u001b[0m\u001b[0;34m\u001b[0m\u001b[0m\n\u001b[0m",
      "\u001b[0;31mTypeError\u001b[0m: 'Response' object is not subscriptable"
     ]
    }
   ],
   "source": [
    "response['sessions']"
   ]
  },
  {
   "cell_type": "code",
   "execution_count": 45,
   "metadata": {},
   "outputs": [
    {
     "output_type": "execute_result",
     "data": {
      "text/plain": [
       "[]"
      ]
     },
     "metadata": {},
     "execution_count": 45
    }
   ],
   "source": [
    "reply['sessions']"
   ]
  },
  {
   "cell_type": "code",
   "execution_count": 36,
   "metadata": {},
   "outputs": [],
   "source": [
    "URL = \"https://cdn-api.co-vin.in/api/v2/appointment/sessions/public/calendarByPin?pincode=400708&date=21-05-2021\""
   ]
  },
  {
   "cell_type": "code",
   "execution_count": 39,
   "metadata": {},
   "outputs": [],
   "source": [
    "response = requests.get(URL, headers=headers)"
   ]
  },
  {
   "cell_type": "code",
   "execution_count": 40,
   "metadata": {},
   "outputs": [
    {
     "output_type": "execute_result",
     "data": {
      "text/plain": [
       "200"
      ]
     },
     "metadata": {},
     "execution_count": 40
    }
   ],
   "source": [
    "response.status_code"
   ]
  },
  {
   "cell_type": "code",
   "execution_count": 51,
   "metadata": {},
   "outputs": [
    {
     "output_type": "execute_result",
     "data": {
      "text/plain": [
       "[]"
      ]
     },
     "metadata": {},
     "execution_count": 51
    }
   ],
   "source": [
    "reply = response.json()\n",
    "reply[\"centers\"]"
   ]
  },
  {
   "cell_type": "code",
   "execution_count": null,
   "metadata": {},
   "outputs": [],
   "source": []
  }
 ]
}